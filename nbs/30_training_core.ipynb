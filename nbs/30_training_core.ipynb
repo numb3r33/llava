{
 "cells": [
  {
   "cell_type": "markdown",
   "metadata": {},
   "source": [
    "# Training Core\n",
    "\n",
    "> Core components for the training pipeline, including loss functions and potentially shared callbacks or utilities."
   ]
  },
  {
   "cell_type": "code",
   "execution_count": 1,
   "metadata": {},
   "outputs": [],
   "source": [
    "#| default_exp training.core"
   ]
  },
  {
   "cell_type": "code",
   "execution_count": 1,
   "metadata": {},
   "outputs": [],
   "source": [
    "#| hide\n",
    "from nbdev.showdoc import *"
   ]
  },
  {
   "cell_type": "code",
   "execution_count": 2,
   "metadata": {},
   "outputs": [
    {
     "name": "stdout",
     "output_type": "stream",
     "text": [
      "Adding project root to sys.path: /workspace/llava\n"
     ]
    }
   ],
   "source": [
    "#| export\n",
    "import sys\n",
    "from pathlib import Path\n",
    "import os\n",
    "import warnings\n",
    "\n",
    "# Assumes the notebook is run from the project root or one level down (e.g., nbs/)\n",
    "# Navigate up to the project root (where settings.ini or .git likely exists)\n",
    "project_root = Path(os.getcwd())\n",
    "# Simple check: If settings.ini is not in cwd, assume we are in nbs/ and go up one level\n",
    "if not (project_root / 'settings.ini').exists() and (project_root.parent / 'settings.ini').exists():\n",
    "    project_root = project_root.parent\n",
    "\n",
    "project_root_str = str(project_root.resolve())\n",
    "\n",
    "if project_root_str not in sys.path:\n",
    "    print(f\"Adding project root to sys.path: {project_root_str}\")\n",
    "    sys.path.insert(0, project_root_str)\n",
    "else:\n",
    "    print(f\"Project root already in sys.path: {project_root_str}\")"
   ]
  },
  {
   "cell_type": "code",
   "execution_count": 20,
   "metadata": {},
   "outputs": [],
   "source": [
    "#| export\n",
    "import torch\n",
    "import torch.nn as nn\n",
    "import torch.nn.functional as F\n",
    "from fastai.callback.wandb import WandbCallback\n",
    "from fastai.learner import Learner\n",
    "from fastai.data.core import DataLoaders\n",
    "from llava.data.preprocessing import IGNORE_INDEX # Import ignore index constant\n",
    "\n",
    "\n",
    "from fastai.callback.fp16 import MixedPrecision\n",
    "from fastai.callback.training import GradientAccumulation, find_bs\n",
    "from fastai.torch_core import to_float\n",
    "from transformers.modeling_outputs import ModelOutput, CausalLMOutputWithPast # Base class for HF outputs"
   ]
  },
  {
   "cell_type": "markdown",
   "metadata": {},
   "source": [
    "This notebook will contain the core elements needed for training, starting with the custom loss function required for LLaVA-style training where certain tokens (like prompts and padding) are ignored."
   ]
  },
  {
   "cell_type": "markdown",
   "metadata": {},
   "source": [
    "## Step 3.1: Implement Custom Loss Function"
   ]
  },
  {
   "cell_type": "code",
   "execution_count": 25,
   "metadata": {},
   "outputs": [],
   "source": [
    "#| export\n",
    "def extract_loss_from_output(model_output:CausalLMOutputWithPast, *args):\n",
    "    if hasattr(model_output, 'loss') and model_output.loss is not None:\n",
    "        return model_output.loss\n",
    "    else:\n",
    "        raise ValueError(\n",
    "            \"Loss attribute not found or is None in the model output object. \"\n",
    "            \"Ensure 'labels' are correctly passed to the model's forward method during training, \"\n",
    "            \"and the model computes loss internally. If this is learner.summary(), ensure dummy labels are passed if model expects them.\"\n",
    "        )"
   ]
  },
  {
   "cell_type": "code",
   "execution_count": 6,
   "metadata": {},
   "outputs": [],
   "source": [
    "#| export\n",
    "class LLaVALoss(nn.Module):\n",
    "    \"\"\" Custom CrossEntropyLoss that ignores indices where labels are IGNORE_INDEX (default -100).\n",
    "    \n",
    "    This loss function handles the standard autoregressive language modeling loss\n",
    "    by shifting the logits and labels, ensuring the model predicts the next token.\n",
    "    It specifically ignores tokens marked with `ignore_index` in the labels tensor,\n",
    "    which is crucial for masking out prompt tokens, padding tokens, and image tokens\n",
    "    during LLaVA training.\n",
    "    \"\"\"\n",
    "    def __init__(self, ignore_index=IGNORE_INDEX):\n",
    "        \"\"\" Initializes the loss function.\n",
    "        \n",
    "        Args:\n",
    "            ignore_index (int): The label index to be ignored during loss calculation.\n",
    "                                Defaults to the value imported from llava.data.preprocessing.\n",
    "        \"\"\"\n",
    "        super().__init__()\n",
    "        self.ignore_index = ignore_index\n",
    "        # Initialize the standard CrossEntropyLoss with the specified ignore_index\n",
    "        self.loss_fct = nn.CrossEntropyLoss(ignore_index=self.ignore_index)\n",
    "        print(f\"LLaVALoss initialized, ignoring index: {self.ignore_index}\")\n",
    "\n",
    "    def forward(self, output: torch.Tensor, target: torch.Tensor) -> torch.Tensor:\n",
    "        \"\"\" Calculates the cross-entropy loss, ignoring specified indices.\n",
    "        \n",
    "        Args:\n",
    "            output (torch.Tensor): The model's output logits.\n",
    "                                   Shape: (batch_size, sequence_length, vocab_size).\n",
    "            target (torch.Tensor): The target labels (token IDs).\n",
    "                                   Shape: (batch_size, sequence_length).\n",
    "                                   Should contain `ignore_index` for tokens to be ignored.\n",
    "                                   \n",
    "        Returns:\n",
    "            torch.Tensor: A scalar tensor representing the calculated loss.\n",
    "        \"\"\"\n",
    "        # --- Shift logits and labels for next token prediction --- \n",
    "        # Logits are shifted left (we predict the token *after* the current one)\n",
    "        # output shape: (batch_size, sequence_length, vocab_size)\n",
    "        shift_logits = output[..., :-1, :].contiguous()\n",
    "        # Labels are shifted left (the target for the prediction at time t is the token at t+1)\n",
    "        # target shape: (batch_size, sequence_length)\n",
    "        shift_labels = target[..., 1:].contiguous()\n",
    "\n",
    "        # --- Flatten the tokens for CrossEntropyLoss --- \n",
    "        # The CrossEntropyLoss expects input shape (N, C) where N is the number of samples\n",
    "        # and C is the number of classes (vocab_size). The target shape should be (N).\n",
    "        # Shift_logits flattened shape: (batch_size * (sequence_length - 1), vocab_size)\n",
    "        # Shift_labels flattened shape: (batch_size * (sequence_length - 1))\n",
    "        vocab_size = shift_logits.size(-1)\n",
    "        loss = self.loss_fct(shift_logits.view(-1, vocab_size), \n",
    "                             shift_labels.view(-1))\n",
    "        \n",
    "        # Ensure loss is a scalar\n",
    "        if loss.dim() > 0:\n",
    "             # This might happen if the batch size or sequence length becomes 0 or 1 after masking/shifting.\n",
    "             # Although CrossEntropyLoss typically returns a scalar, handle defensively.\n",
    "             loss = loss.mean() \n",
    "\n",
    "        return loss"
   ]
  },
  {
   "cell_type": "code",
   "execution_count": null,
   "metadata": {},
   "outputs": [
    {
     "data": {
      "text/markdown": [
       "---\n",
       "\n",
       "### LLaVALoss\n",
       "\n",
       ">      LLaVALoss (ignore_index=-100)\n",
       "\n",
       "*Custom CrossEntropyLoss that ignores indices where labels are IGNORE_INDEX (default -100).\n",
       "    \n",
       "    This loss function handles the standard autoregressive language modeling loss\n",
       "    by shifting the logits and labels, ensuring the model predicts the next token.\n",
       "    It specifically ignores tokens marked with `ignore_index` in the labels tensor,\n",
       "    which is crucial for masking out prompt tokens, padding tokens, and image tokens\n",
       "    during LLaVA training.*"
      ],
      "text/plain": [
       "---\n",
       "\n",
       "### LLaVALoss\n",
       "\n",
       ">      LLaVALoss (ignore_index=-100)\n",
       "\n",
       "*Custom CrossEntropyLoss that ignores indices where labels are IGNORE_INDEX (default -100).\n",
       "    \n",
       "    This loss function handles the standard autoregressive language modeling loss\n",
       "    by shifting the logits and labels, ensuring the model predicts the next token.\n",
       "    It specifically ignores tokens marked with `ignore_index` in the labels tensor,\n",
       "    which is crucial for masking out prompt tokens, padding tokens, and image tokens\n",
       "    during LLaVA training.*"
      ]
     },
     "execution_count": null,
     "metadata": {},
     "output_type": "execute_result"
    }
   ],
   "source": [
    "show_doc(LLaVALoss)"
   ]
  },
  {
   "cell_type": "markdown",
   "metadata": {},
   "source": [
    "#### Example Usage & Test"
   ]
  },
  {
   "cell_type": "code",
   "execution_count": 7,
   "metadata": {},
   "outputs": [
    {
     "name": "stdout",
     "output_type": "stream",
     "text": [
      "LLaVALoss initialized, ignoring index: -100\n",
      "Target shape: torch.Size([2, 5])\n",
      "Target:\n",
      "tensor([[   5,    3,    4,    4, -100],\n",
      "        [   7,    1, -100,    8,    9]])\n",
      "Logits shape: torch.Size([2, 5, 10])\n",
      "Calculating loss...\n",
      "Shifted Logits shape: torch.Size([2, 4, 10])\n",
      "Shifted Labels shape: torch.Size([2, 4])\n",
      "Shifted Labels:\n",
      "tensor([[   3,    4,    4, -100],\n",
      "        [   1, -100,    8,    9]])\n",
      "Calculated Loss: 3.2114\n",
      "\n",
      "Loss calculation test passed.\n"
     ]
    }
   ],
   "source": [
    "#| test\n",
    "# Create dummy data\n",
    "batch_size = 2\n",
    "seq_len = 5\n",
    "vocab_size = 10\n",
    "ignore_idx = -100\n",
    "\n",
    "# Dummy logits (B, S, V)\n",
    "dummy_logits = torch.randn(batch_size, seq_len, vocab_size)\n",
    "# Dummy labels (B, S) with some ignored indices\n",
    "dummy_labels = torch.randint(0, vocab_size, (batch_size, seq_len), dtype=torch.long)\n",
    "# Add ignore index (-100)\n",
    "dummy_labels[0, -1] = ignore_idx  # Last token ignored for sample 0\n",
    "dummy_labels[1, 2] = ignore_idx # 3rd token ignored for sample 1\n",
    "\n",
    "# Instantiate the loss\n",
    "loss_func = LLaVALoss(ignore_index=ignore_idx)\n",
    "\n",
    "print(f\"Target shape: {dummy_labels.shape}\")\n",
    "print(f\"Target:\\n{dummy_labels}\")\n",
    "print(f\"Logits shape: {dummy_logits.shape}\")\n",
    "\n",
    "print(\"Calculating loss...\")\n",
    "# Calculate loss\n",
    "loss = loss_func(dummy_logits, dummy_labels)\n",
    "\n",
    "# Check if loss is a scalar tensor\n",
    "assert loss.dim() == 0, f\"Loss should be scalar, but got shape {loss.shape}\"\n",
    "\n",
    "# Manually calculate expected loss for verification (optional, complex)\n",
    "# shift_logits_manual = dummy_logits[:, :-1, :].reshape(-1, vocab_size)\n",
    "# shift_labels_manual = dummy_labels[:, 1:].reshape(-1)\n",
    "# expected_loss = F.cross_entropy(shift_logits_manual, shift_labels_manual, ignore_index=ignore_idx)\n",
    "# print(f\"Expected Loss (Manual): {expected_loss.item():.4f}\")\n",
    "\n",
    "# Get shifted labels to show what's being used in loss\n",
    "shift_labels_print = dummy_labels[..., 1:].contiguous()\n",
    "print(f\"Shifted Logits shape: {dummy_logits[..., :-1, :].shape}\")\n",
    "print(f\"Shifted Labels shape: {shift_labels_print.shape}\")\n",
    "print(f\"Shifted Labels:\\n{shift_labels_print}\")\n",
    "\n",
    "print(f\"Calculated Loss: {loss.item():.4f}\")\n",
    "\n",
    "assert torch.isfinite(loss), \"Loss calculation resulted in non-finite value.\"\n",
    "print(\"\\nLoss calculation test passed.\")"
   ]
  },
  {
   "cell_type": "markdown",
   "metadata": {},
   "source": [
    "## Training Utilities (e.g., Learner Setup - To be implemented later)"
   ]
  },
  {
   "cell_type": "code",
   "execution_count": null,
   "metadata": {},
   "outputs": [],
   "source": [
    "# Placeholder for learner setup functions (e.g., get_stage1_learner)\n",
    "# These will utilize WandbCallback imported above."
   ]
  },
  {
   "cell_type": "code",
   "execution_count": 21,
   "metadata": {},
   "outputs": [],
   "source": [
    "#| export\n",
    "class SafeGradientAccumulation(GradientAccumulation):\n",
    "    \"A GradientAccumulation callback that clones loss if it requires grad before in-place division.\"\n",
    "    def after_loss(self):\n",
    "        \"Divides `loss_grad` by `n_acc`.\"\n",
    "        # If loss_grad is a tensor that requires grad, clone it before the in-place op\n",
    "        if isinstance(self.learn.loss_grad, torch.Tensor) and self.learn.loss_grad.requires_grad:\n",
    "            self.learn.loss_grad = self.learn.loss_grad.clone() / (self.n_acc/find_bs(self.learn.yb))\n",
    "        else: # Otherwise, proceed as normal (handles cases where loss_grad might not require grad, e.g. after detach)\n",
    "            self.learn.loss_grad /= (self.n_acc/find_bs(self.learn.yb))"
   ]
  },
  {
   "cell_type": "code",
   "execution_count": 16,
   "metadata": {},
   "outputs": [],
   "source": [
    "#| export\n",
    "class LLaVAMixedPrecision(MixedPrecision):\n",
    "    \"Mixed precision training specifically handling HF model outputs\"\n",
    "    def after_pred(self):\n",
    "        pred = self.learn.pred\n",
    "        if isinstance(pred, ModelOutput):\n",
    "            if hasattr(pred, 'logits'):\n",
    "                logits_val = getattr(pred, 'logits')\n",
    "                if isinstance(logits_val, torch.Tensor) and logits_val.is_floating_point():\n",
    "                    try:\n",
    "                        # This attempts to modify the logits attribute of the ModelOutput object\n",
    "                        setattr(pred, 'logits', to_float(logits_val))\n",
    "                        # self.learn.pred remains the ModelOutput object, but with float logits\n",
    "                    except AttributeError:\n",
    "                        # If pred is immutable (e.g. namedtuple, though HF usually uses dataclasses)\n",
    "                        # This path is less likely for HF outputs but good for robustness\n",
    "                        warnings.warn(\"LLaVAMixedPrecision: Could not set 'logits' attribute directly on model output. Applying to_float to the whole output.\", UserWarning)\n",
    "                        self.learn.pred = to_float(pred)\n",
    "                # else: logits might not be float or not a tensor, do nothing to it.\n",
    "            # else: pred is ModelOutput but no logits, do nothing.\n",
    "        elif isinstance(pred, torch.Tensor) and pred.is_floating_point():\n",
    "            self.learn.pred = to_float(pred)\n",
    "        elif isinstance(pred, (list, tuple)): # Handle cases where pred might be a list/tuple of tensors\n",
    "             self.learn.pred = apply(lambda x: to_float(x) if isinstance(x, torch.Tensor) and x.is_floating_point() else x, pred)\n",
    "        # else: pred is some other type, do nothing."
   ]
  },
  {
   "cell_type": "code",
   "execution_count": 27,
   "metadata": {},
   "outputs": [],
   "source": [
    "#| hide\n",
    "import nbdev; nbdev.nbdev_export()"
   ]
  },
  {
   "cell_type": "code",
   "execution_count": null,
   "metadata": {},
   "outputs": [],
   "source": []
  }
 ],
 "metadata": {
  "kernelspec": {
   "display_name": "Python3 (ipykernel)",
   "language": "python",
   "name": "python3"
  },
  "language_info": {
   "codemirror_mode": {
    "name": "ipython",
    "version": 3
   },
   "file_extension": ".py",
   "mimetype": "text/x-python",
   "name": "python",
   "nbconvert_exporter": "python",
   "pygments_lexer": "ipython3",
   "version": "3.10.12"
  }
 },
 "nbformat": 4,
 "nbformat_minor": 4
}
