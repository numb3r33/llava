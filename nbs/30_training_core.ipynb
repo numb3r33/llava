{
 "cells": [
  {
   "cell_type": "markdown",
   "metadata": {},
   "source": [
    "# Training Core\n",
    "\n",
    "> Core components for the training pipeline, including loss functions and potentially shared callbacks or utilities."
   ]
  },
  {
   "cell_type": "code",
   "execution_count": null,
   "metadata": {},
   "outputs": [],
   "source": [
    "#| default_exp training.core"
   ]
  },
  {
   "cell_type": "code",
   "execution_count": null,
   "metadata": {},
   "outputs": [],
   "source": [
    "#| hide\n",
    "from nbdev.showdoc import *"
   ]
  },
  {
   "cell_type": "code",
   "execution_count": null,
   "metadata": {},
   "outputs": [],
   "source": [
    "#| export\n",
    "import torch\n",
    "import torch.nn as nn\n",
    "import torch.nn.functional as F\n",
    "from fastai.callback.wandb import WandbCallback\n",
    "from fastai.learner import Learner\n",
    "from fastai.data.core import DataLoaders\n",
    "from llava.data.preprocessing import IGNORE_INDEX # Import ignore index constant"
   ]
  },
  {
   "cell_type": "markdown",
   "metadata": {},
   "source": [
    "This notebook will contain the core elements needed for training, starting with the custom loss function required for LLaVA-style training where certain tokens (like prompts and padding) are ignored."
   ]
  },
  {
   "cell_type": "markdown",
   "metadata": {},
   "source": [
    "## Step 3.1: Implement Custom Loss Function"
   ]
  },
  {
   "cell_type": "code",
   "execution_count": null,
   "metadata": {},
   "outputs": [],
   "source": [
    "#| export\n",
    "class LLaVALoss(nn.Module):\n",
    "    \"\"\" Custom CrossEntropyLoss that ignores indices where labels are IGNORE_INDEX (default -100).\n",
    "    \n",
    "    This loss function handles the standard autoregressive language modeling loss\n",
    "    by shifting the logits and labels, ensuring the model predicts the next token.\n",
    "    It specifically ignores tokens marked with `ignore_index` in the labels tensor,\n",
    "    which is crucial for masking out prompt tokens, padding tokens, and image tokens\n",
    "    during LLaVA training.\n",
    "    \"\"\"\n",
    "    def __init__(self, ignore_index=IGNORE_INDEX):\n",
    "        \"\"\" Initializes the loss function.\n",
    "        \n",
    "        Args:\n",
    "            ignore_index (int): The label index to be ignored during loss calculation.\n",
    "                                Defaults to the value imported from llava.data.preprocessing.\n",
    "        \"\"\"\n",
    "        super().__init__()\n",
    "        self.ignore_index = ignore_index\n",
    "        # Initialize the standard CrossEntropyLoss with the specified ignore_index\n",
    "        self.loss_fct = nn.CrossEntropyLoss(ignore_index=self.ignore_index)\n",
    "        print(f\"LLaVALoss initialized, ignoring index: {self.ignore_index}\")\n",
    "\n",
    "    def forward(self, output: torch.Tensor, target: torch.Tensor) -> torch.Tensor:\n",
    "        \"\"\" Calculates the cross-entropy loss, ignoring specified indices.\n",
    "        \n",
    "        Args:\n",
    "            output (torch.Tensor): The model's output logits.\n",
    "                                   Shape: (batch_size, sequence_length, vocab_size).\n",
    "            target (torch.Tensor): The target labels (token IDs).\n",
    "                                   Shape: (batch_size, sequence_length).\n",
    "                                   Should contain `ignore_index` for tokens to be ignored.\n",
    "                                   \n",
    "        Returns:\n",
    "            torch.Tensor: A scalar tensor representing the calculated loss.\n",
    "        \"\"\"\n",
    "        # --- Shift logits and labels for next token prediction --- \n",
    "        # Logits are shifted left (we predict the token *after* the current one)\n",
    "        # output shape: (batch_size, sequence_length, vocab_size)\n",
    "        shift_logits = output[..., :-1, :].contiguous()\n",
    "        # Labels are shifted left (the target for the prediction at time t is the token at t+1)\n",
    "        # target shape: (batch_size, sequence_length)\n",
    "        shift_labels = target[..., 1:].contiguous()\n",
    "\n",
    "        # --- Flatten the tokens for CrossEntropyLoss --- \n",
    "        # The CrossEntropyLoss expects input shape (N, C) where N is the number of samples\n",
    "        # and C is the number of classes (vocab_size). The target shape should be (N).\n",
    "        # Shift_logits flattened shape: (batch_size * (sequence_length - 1), vocab_size)\n",
    "        # Shift_labels flattened shape: (batch_size * (sequence_length - 1))\n",
    "        vocab_size = shift_logits.size(-1)\n",
    "        loss = self.loss_fct(shift_logits.view(-1, vocab_size), \n",
    "                             shift_labels.view(-1))\n",
    "        \n",
    "        # Ensure loss is a scalar\n",
    "        if loss.dim() > 0:\n",
    "             # This might happen if the batch size or sequence length becomes 0 or 1 after masking/shifting.\n",
    "             # Although CrossEntropyLoss typically returns a scalar, handle defensively.\n",
    "             loss = loss.mean() \n",
    "\n",
    "        return loss"
   ]
  },
  {
   "cell_type": "code",
   "execution_count": null,
   "metadata": {},
   "outputs": [
    {
     "data": {
      "text/markdown": [
       "---\n",
       "\n",
       "### LLaVALoss\n",
       "\n",
       ">      LLaVALoss (ignore_index=-100)\n",
       "\n",
       "*Custom CrossEntropyLoss that ignores indices where labels are IGNORE_INDEX (default -100).\n",
       "    \n",
       "    This loss function handles the standard autoregressive language modeling loss\n",
       "    by shifting the logits and labels, ensuring the model predicts the next token.\n",
       "    It specifically ignores tokens marked with `ignore_index` in the labels tensor,\n",
       "    which is crucial for masking out prompt tokens, padding tokens, and image tokens\n",
       "    during LLaVA training.*"
      ],
      "text/plain": [
       "---\n",
       "\n",
       "### LLaVALoss\n",
       "\n",
       ">      LLaVALoss (ignore_index=-100)\n",
       "\n",
       "*Custom CrossEntropyLoss that ignores indices where labels are IGNORE_INDEX (default -100).\n",
       "    \n",
       "    This loss function handles the standard autoregressive language modeling loss\n",
       "    by shifting the logits and labels, ensuring the model predicts the next token.\n",
       "    It specifically ignores tokens marked with `ignore_index` in the labels tensor,\n",
       "    which is crucial for masking out prompt tokens, padding tokens, and image tokens\n",
       "    during LLaVA training.*"
      ]
     },
     "execution_count": null,
     "metadata": {},
     "output_type": "execute_result"
    }
   ],
   "source": [
    "show_doc(LLaVALoss)"
   ]
  },
  {
   "cell_type": "markdown",
   "metadata": {},
   "source": [
    "#### Example Usage & Test"
   ]
  },
  {
   "cell_type": "code",
   "execution_count": null,
   "metadata": {},
   "outputs": [
    {
     "name": "stdout",
     "output_type": "stream",
     "text": [
      "LLaVALoss initialized, ignoring index: -100\n",
      "Target shape: torch.Size([2, 5])\n",
      "Target:\ntensor([[   1,    5,    6,    7, -100],\n        [   1,    8, -100,    9,    2]])\n",
      "Logits shape: torch.Size([2, 5, 10])\n",
      "\n",
      "Calculating loss...\n",
      "Shifted Logits shape: torch.Size([2, 4, 10])\n",
      "Shifted Labels shape: torch.Size([2, 4])\n",
      "Shifted Labels:\ntensor([[   5,    6,    7, -100],\n        [   8, -100,    9,    2]])\n",
      "Calculated Loss: 2.4166\n",
      "\n",
      "Loss calculation test passed.\n"
     ]
    }
   ],
   "source": [
    "#| test\n",
    "# Create dummy data\n",
    "batch_size = 2\n",
    "seq_len = 5\n",
    "vocab_size = 10\n",
    "ignore_idx = -100\n",
    "\n",
    "# Dummy logits (B, S, V)\n",
    "dummy_logits = torch.randn(batch_size, seq_len, vocab_size)\n",
    "# Dummy labels (B, S) with some ignored indices\n",
    "dummy_labels = torch.randint(0, vocab_size, (batch_size, seq_len), dtype=torch.long)\n",
    "# Add ignore index (-100)\n",
    "dummy_labels[0, -1] = ignore_idx  # Last token ignored for sample 0\n",
    "dummy_labels[1, 2] = ignore_idx # 3rd token ignored for sample 1\n",
    "\n",
    "# Instantiate the loss\n",
    "loss_func = LLaVALoss(ignore_index=ignore_idx)\n",
    "\n",
    "print(f\"Target shape: {dummy_labels.shape}\")\n",
    "print(f\"Target:\\n{dummy_labels}\")\n",
    "print(f\"Logits shape: {dummy_logits.shape}\")\n",
    "\n",
    "print(\"Calculating loss...\")\n",
    "# Calculate loss\n",
    "loss = loss_func(dummy_logits, dummy_labels)\n",
    "\n",
    "# Check if loss is a scalar tensor\n",
    "assert loss.dim() == 0, f\"Loss should be scalar, but got shape {loss.shape}\"\n",
    "\n",
    "# Manually calculate expected loss for verification (optional, complex)\n",
    "# shift_logits_manual = dummy_logits[:, :-1, :].reshape(-1, vocab_size)\n",
    "# shift_labels_manual = dummy_labels[:, 1:].reshape(-1)\n",
    "# expected_loss = F.cross_entropy(shift_logits_manual, shift_labels_manual, ignore_index=ignore_idx)\n",
    "# print(f\"Expected Loss (Manual): {expected_loss.item():.4f}\")\n",
    "\n",
    "# Get shifted labels to show what's being used in loss\n",
    "shift_labels_print = dummy_labels[..., 1:].contiguous()\n",
    "print(f\"Shifted Logits shape: {dummy_logits[..., :-1, :].shape}\")\n",
    "print(f\"Shifted Labels shape: {shift_labels_print.shape}\")\n",
    "print(f\"Shifted Labels:\\n{shift_labels_print}\")\n",
    "\n",
    "print(f\"Calculated Loss: {loss.item():.4f}\")\n",
    "\n",
    "assert torch.isfinite(loss), \"Loss calculation resulted in non-finite value.\"\n",
    "print(\"\\nLoss calculation test passed.\")"
   ]
  },
  {
   "cell_type": "markdown",
   "metadata": {},
   "source": [
    "## Training Utilities (e.g., Learner Setup - To be implemented later)"
   ]
  },
  {
   "cell_type": "code",
   "execution_count": null,
   "metadata": {},
   "outputs": [],
   "source": [
    "# Placeholder for learner setup functions (e.g., get_stage1_learner)\n",
    "# These will utilize WandbCallback imported above."
   ]
  },
  {
   "cell_type": "code",
   "execution_count": null,
   "metadata": {},
   "outputs": [],
   "source": [
    "#| hide\n",
    "import nbdev; nbdev.nbdev_export()"
   ]
  }
 ],
 "metadata": {
  "kernelspec": {
   "display_name": "python3",
   "language": "python",
   "name": "python3"
  }
 },
 "nbformat": 4,
 "nbformat_minor": 4
}
