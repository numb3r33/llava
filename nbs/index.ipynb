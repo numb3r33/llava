{
 "cells": [
  {
   "cell_type": "code",
   "execution_count": null,
   "metadata": {},
   "outputs": [],
   "source": [
    "#| default_exp index\n",
    "#| hide\n",
    "from nbdev.showdoc import *\n",
    "from Adaptive_Patching_VIT_fastai.core import *"
   ]
  },
  {
   "cell_type": "markdown",
   "metadata": {},
   "source": [
    "# Adaptive_Patching_VIT_fastai\n",
    "\n",
    "> Adaptive Patching for Visual Instruction Tuning (Based on LLaVA 1.5) using fast.ai and nbdev."
   ]
  },
  {
   "cell_type": "markdown",
   "metadata": {},
   "source": [
    "This project aims to develop and evaluate a novel adaptive image patching mechanism for Visual Instruction Tuning (VIT), building upon the LLaVA 1.5 architecture. It utilizes `fast.ai` for the core deep learning framework and `nbdev` for project management and documentation."
   ]
  },
  {
   "cell_type": "markdown",
   "metadata": {},
   "source": [
    "## Install"
   ]
  },
  {
   "cell_type": "markdown",
   "metadata": {},
   "source": [
    "```sh\n",
    "# Clone the repository (replace with your actual repo URL)\n",
    "# git clone https://github.com/[Your GitHub Username]/Adaptive_Patching_VIT_fastai.git\n",
    "# cd Adaptive_Patching_VIT_fastai\n",
    "\n",
    "# Install dependencies (consider using a virtual environment)\n",
    "# pip install -r requirements.txt  # Or use the requirements specified in settings.ini\n",
    "\n",
    "# Install the package in editable mode\n",
    "pip install -e .\n",
    "```"
   ]
  },
  {
   "cell_type": "markdown",
   "metadata": {},
   "source": [
    "## How to use"
   ]
  },
  {
   "cell_type": "markdown",
   "metadata": {},
   "source": [
    "Fill me in please! Don't forget code examples:"
   ]
  },
  {
   "cell_type": "code",
   "execution_count": null,
   "metadata": {},
   "outputs": [
    {
     "data": {
      "text/plain": [
       "2"
      ]
     },
     "execution_count": null,
     "metadata": {},
     "output_type": "execute_result"
    }
   ],
   "source": [
    "1+1 # Example placeholder"
   ]
  },
  {
   "cell_type": "code",
   "execution_count": null,
   "metadata": {},
   "outputs": [],
   "source": []
  }
 ],
 "metadata": {
  "kernelspec": {
   "display_name": "python3",
   "language": "python",
   "name": "python3"
  }
 },
 "nbformat": 4,
 "nbformat_minor": 4
}
