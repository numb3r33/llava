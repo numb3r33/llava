{
 "cells": [
  {
   "cell_type": "markdown",
   "metadata": {},
   "source": [
    "# Utilities\n",
    "\n",
    "> Utility functions for configuration loading, logging setup, etc."
   ]
  },
  {
   "cell_type": "code",
   "execution_count": null,
   "metadata": {},
   "outputs": [],
   "source": [
    "#| default_exp utils"
   ]
  },
  {
   "cell_type": "code",
   "execution_count": null,
   "metadata": {},
   "outputs": [],
   "source": [
    "#| hide\n",
    "from nbdev.showdoc import *"
   ]
  },
  {
   "cell_type": "code",
   "execution_count": null,
   "metadata": {},
   "outputs": [],
   "source": [
    "#| export\n",
    "import yaml\n",
    "from pathlib import Path\n",
    "from fastcore.utils import *\n",
    "import wandb\n",
    "import os\n",
    "import datetime"
   ]
  },
  {
   "cell_type": "markdown",
   "metadata": {},
   "source": [
    "## Configuration Loading"
   ]
  },
  {
   "cell_type": "code",
   "execution_count": null,
   "metadata": {},
   "outputs": [],
   "source": [
    "#| export\n",
    "def load_config(config_path: str|Path):\n",
    "    \"\"\"Loads configuration settings from a YAML file.\n",
    "\n",
    "    Args:\n",
    "        config_path: Path to the YAML configuration file.\n",
    "\n",
    "    Returns:\n",
    "        A dictionary containing the configuration settings.\n",
    "\n",
    "    Raises:\n",
    "        FileNotFoundError: If the config file doesn't exist.\n",
    "        yaml.YAMLError: If there's an error parsing the YAML file.\n",
    "    \"\"\"\n",
    "    config_path = Path(config_path)\n",
    "    if not config_path.is_file():\n",
    "        raise FileNotFoundError(f\"Configuration file not found at {config_path}\")\n",
    "    try:\n",
    "        with open(config_path, 'r') as f:\n",
    "            config = yaml.safe_load(f)\n",
    "        return config\n",
    "    except yaml.YAMLError as e:\n",
    "        print(f\"Error parsing YAML file: {config_path}\")\n",
    "        raise e"
   ]
  },
  {
   "cell_type": "code",
   "execution_count": null,
   "metadata": {},
   "outputs": [
    {
     "data": {
      "text/markdown": [
       "---\n",
       "\n",
       "### load_config\n",
       "\n",
       ">      load_config (config_path:str|pathlib.Path)\n",
       "\n",
       "*Loads configuration settings from a YAML file.\n",
       "\n",
       "Args:\n",
       "    config_path: Path to the YAML configuration file.\n",
       "\n",
       "Returns:\n",
       "    A dictionary containing the configuration settings.\n",
       "\n",
       "Raises:\n",
       "    FileNotFoundError: If the config file doesn't exist.\n",
       "    yaml.YAMLError: If there's an error parsing the YAML file.*"
      ],
      "text/plain": [
       "---\n",
       "\n",
       "### load_config\n",
       "\n",
       ">      load_config (config_path:str|pathlib.Path)\n",
       "\n",
       "*Loads configuration settings from a YAML file.\n",
       "\n",
       "Args:\n",
       "    config_path: Path to the YAML configuration file.\n",
       "\n",
       "Returns:\n",
       "    A dictionary containing the configuration settings.\n",
       "\n",
       "Raises:\n",
       "    FileNotFoundError: If the config file doesn't exist.\n",
       "    yaml.YAMLError: If there's an error parsing the YAML file.*"
      ]
     },
     "execution_count": null,
     "metadata": {},
     "output_type": "execute_result"
    }
   ],
   "source": [
    "show_doc(load_config)"
   ]
  },
  {
   "cell_type": "markdown",
   "metadata": {},
   "source": [
    "### Usage Example (Loading)"
   ]
  },
  {
   "cell_type": "code",
   "execution_count": null,
   "metadata": {},
   "outputs": [
    {
     "name": "stdout",
     "output_type": "stream",
     "text": [
      "Created dummy config: configs/config.yaml\n",
      "\n",
      "Config loaded successfully:\n",
      "{'project_name': 'Adaptive_Patching_VIT_fastai', 'paths': {'data_base': '/path/to/datasets', 'output_dir': '/path/to/outputs'}, 'model': {'llm_name_or_path': 'lmsys/vicuna-7b-v1.5', 'vision_encoder_name_or_path': 'openai/clip-vit-large-patch14-336'}, 'logging': {'wandb': {'enabled': True, 'project': 'adaptive_patching_vit_test', 'entity': 'your_wandb_entity'}}}\n"
     ]
    }
   ],
   "source": [
    "#|eval: false\n",
    "# Create a dummy config for testing if it doesn't exist\n",
    "config_dir = Path('configs')\n",
    "config_dir.mkdir(exist_ok=True)\n",
    "dummy_config_path = config_dir / 'config.yaml'\n",
    "\n",
    "if not dummy_config_path.exists():\n",
    "    dummy_config_content = \"\"\"\n",
    "    project_name: Adaptive_Patching_VIT_fastai\n",
    "    paths:\n",
    "      data_base: /path/to/datasets\n",
    "      output_dir: /path/to/outputs\n",
    "    model:\n",
    "      llm_name_or_path: lmsys/vicuna-7b-v1.5\n",
    "      vision_encoder_name_or_path: openai/clip-vit-large-patch14-336\n",
    "    logging:\n",
    "      wandb:\n",
    "        enabled: true\n",
    "        project: adaptive_patching_vit_test\n",
    "        entity: your_wandb_entity # Replace with your entity\n",
    "    \"\"\"\n",
    "    with open(dummy_config_path, 'w') as f:\n",
    "        f.write(dummy_config_content)\n",
    "    print(f\"Created dummy config: {dummy_config_path}\")\n",
    "\n",
    "# Load the config\n",
    "try:\n",
    "    config = load_config(dummy_config_path)\n",
    "    print(\"\\nConfig loaded successfully:\")\n",
    "    print(config)\n",
    "except Exception as e:\n",
    "    print(f\"Error loading config: {e}\")\n"
   ]
  },
  {
   "cell_type": "markdown",
   "metadata": {},
   "source": [
    "## Weights & Biases Integration"
   ]
  },
  {
   "cell_type": "code",
   "execution_count": null,
   "metadata": {},
   "outputs": [],
   "source": [
    "#| export\n",
    "def init_wandb(config: dict, job_type: str = \"training\", run_name: str | None = None):\n",
    "    \"\"\"Initializes a Weights & Biases run.\n",
    "\n",
    "    Args:\n",
    "        config: The configuration dictionary, expected to have a 'logging.wandb' section.\n",
    "        job_type: Type of the job (e.g., 'training', 'evaluation').\n",
    "        run_name: Optional name for the run. Defaults to a timestamped name.\n",
    "\n",
    "    Returns:\n",
    "        The initialized wandb run object, or None if W&B is disabled.\n",
    "\n",
    "    Notes:\n",
    "        Requires WANDB_API_KEY environment variable or prior `wandb login`.\n",
    "        Reads 'project' and 'entity' from config['logging']['wandb'].\n",
    "    \"\"\"\n",
    "    wandb_config = config.get('logging', {}).get('wandb', {})\n",
    "    if not wandb_config.get('enabled', False):\n",
    "        print(\"W&B logging is disabled in the configuration.\")\n",
    "        return None\n",
    "\n",
    "    project = wandb_config.get('project', 'default_project')\n",
    "    entity = wandb_config.get('entity') # Can be None, W&B will use default\n",
    "\n",
    "    if run_name is None:\n",
    "        run_name = f\"{job_type}_{datetime.datetime.now().strftime('%Y%m%d_%H%M%S')}\"\n",
    "\n",
    "    try:\n",
    "        run = wandb.init(\n",
    "            project=project,\n",
    "            entity=entity,\n",
    "            config=config, # Log the entire config\n",
    "            name=run_name,\n",
    "            job_type=job_type,\n",
    "            reinit=True # Allows re-initialization in notebooks\n",
    "        )\n",
    "        print(f\"W&B run initialized: {run.name} (Project: {project}, Entity: {entity or 'default'})\")\n",
    "        print(f\"Track run at: {run.url}\")\n",
    "        return run\n",
    "    except Exception as e:\n",
    "        print(f\"Error initializing W&B: {e}\")\n",
    "        print(\"Ensure WANDB_API_KEY is set or you are logged in (`wandb login`).\")\n",
    "        return None"
   ]
  },
  {
   "cell_type": "code",
   "execution_count": null,
   "metadata": {},
   "outputs": [
    {
     "data": {
      "text/markdown": [
       "---\n",
       "\n",
       "### init_wandb\n",
       "\n",
       ">      init_wandb (config:dict, job_type:str='training', run_name:str|None=None)\n",
       "\n",
       "*Initializes a Weights & Biases run.\n",
       "\n",
       "Args:\n",
       "    config: The configuration dictionary, expected to have a 'logging.wandb' section.\n",
       "    job_type: Type of the job (e.g., 'training', 'evaluation').\n",
       "    run_name: Optional name for the run. Defaults to a timestamped name.\n",
       "\n",
       "Returns:\n",
       "    The initialized wandb run object, or None if W&B is disabled.\n",
       "\n",
       "Notes:\n",
       "    Requires WANDB_API_KEY environment variable or prior `wandb login`.\n",
       "    Reads 'project' and 'entity' from config['logging']['wandb'].*"
      ],
      "text/plain": [
       "---\n",
       "\n",
       "### init_wandb\n",
       "\n",
       ">      init_wandb (config:dict, job_type:str='training', run_name:str|None=None)\n",
       "\n",
       "*Initializes a Weights & Biases run.\n",
       "\n",
       "Args:\n",
       "    config: The configuration dictionary, expected to have a 'logging.wandb' section.\n",
       "    job_type: Type of the job (e.g., 'training', 'evaluation').\n",
       "    run_name: Optional name for the run. Defaults to a timestamped name.\n",
       "\n",
       "Returns:\n",
       "    The initialized wandb run object, or None if W&B is disabled.\n",
       "\n",
       "Notes:\n",
       "    Requires WANDB_API_KEY environment variable or prior `wandb login`.\n",
       "    Reads 'project' and 'entity' from config['logging']['wandb'].*"
      ]
     },
     "execution_count": null,
     "metadata": {},
     "output_type": "execute_result"
    }
   ],
   "source": [
    "show_doc(init_wandb)"
   ]
  },
  {
   "cell_type": "markdown",
   "metadata": {},
   "source": [
    "### Usage Example (W&B)"
   ]
  },
  {
   "cell_type": "code",
   "execution_count": null,
   "metadata": {},
   "outputs": [
    {
     "name": "stderr",
     "output_type": "stream",
     "text": [
      "\u001b[34m\u001b[1mwandb\u001b[0m: \u001b[32m\u001b[41mERROR\u001b[0m Failed to detect the name of this notebook. You can set it manually with the WANDB_NOTEBOOK_NAME environment variable to enable code saving.\n"
     ]
    },
    {
     "name": "stdout",
     "output_type": "stream",
     "text": [
      "Loaded config from configs/config.yaml\n"
     ]
    },
    {
     "name": "stderr",
     "output_type": "stream",
     "text": [
      "\u001b[34m\u001b[1mwandb\u001b[0m: Logging into wandb.ai. (Learn how to deploy a W&B server locally: https://wandb.me/wandb-server)\n",
      "\u001b[34m\u001b[1mwandb\u001b[0m: You can find your API key in your browser here: https://wandb.ai/authorize?ref=models\n",
      "\u001b[34m\u001b[1mwandb\u001b[0m: Paste an API key from your profile and hit enter:"
     ]
    },
    {
     "name": "stdin",
     "output_type": "stream",
     "text": [
      "  ········\n"
     ]
    },
    {
     "name": "stderr",
     "output_type": "stream",
     "text": [
      "\u001b[34m\u001b[1mwandb\u001b[0m: \u001b[33mWARNING\u001b[0m If you're specifying your api key in code, ensure this code is not shared publicly.\n",
      "\u001b[34m\u001b[1mwandb\u001b[0m: \u001b[33mWARNING\u001b[0m Consider setting the WANDB_API_KEY environment variable, or running `wandb login` from the command line.\n",
      "\u001b[34m\u001b[1mwandb\u001b[0m: No netrc file found, creating one.\n",
      "\u001b[34m\u001b[1mwandb\u001b[0m: Appending key for api.wandb.ai to your netrc file: /root/.netrc\n",
      "\u001b[34m\u001b[1mwandb\u001b[0m: Currently logged in as: \u001b[33mnumb3r33\u001b[0m to \u001b[32mhttps://api.wandb.ai\u001b[0m. Use \u001b[1m`wandb login --relogin`\u001b[0m to force relogin\n",
      "\u001b[34m\u001b[1mwandb\u001b[0m: \u001b[33mWARNING\u001b[0m Using a boolean value for 'reinit' is deprecated. Use 'return_previous' or 'finish_previous' instead.\n"
     ]
    },
    {
     "name": "stdout",
     "output_type": "stream",
     "text": [
      "Error initializing W&B: failed to upsert bucket: returned error 404: {\"data\":{\"upsertBucket\":null},\"errors\":[{\"message\":\"entity your_wandb_entity not found during upsertBucket\",\"path\":[\"upsertBucket\"]}]}\n",
      "Ensure WANDB_API_KEY is set or you are logged in (`wandb login`).\n",
      "Failed to initialize W&B run.\n"
     ]
    }
   ],
   "source": [
    "#|eval: false\n",
    "# Load config first\n",
    "try:\n",
    "    config_path = 'configs/config.yaml'\n",
    "    config = load_config(config_path)\n",
    "    print(f\"Loaded config from {config_path}\")\n",
    "\n",
    "    # Initialize W&B (replace with your entity in config.yaml or set WANDB_ENTITY env var)\n",
    "    # Make sure wandb logging is enabled in the config\n",
    "    if config.get('logging', {}).get('wandb', {}).get('enabled'):\n",
    "        wandb_run = init_wandb(config, job_type=\"test_initialization\")\n",
    "\n",
    "        if wandb_run:\n",
    "            print(\"W&B run object received.\")\n",
    "            # Example of logging something\n",
    "            wandb_run.log({\"test_metric\": 1.0})\n",
    "            wandb_run.finish() # Finish the run when done\n",
    "            print(\"W&B run finished.\")\n",
    "        else:\n",
    "            print(\"Failed to initialize W&B run.\")\n",
    "    else:\n",
    "        print(\"W&B is disabled in config, skipping initialization.\")\n",
    "\n",
    "except FileNotFoundError:\n",
    "    print(f\"Config file not found at {config_path}. Skipping W&B initialization test.\")\n",
    "except Exception as e:\n",
    "    print(f\"An error occurred: {e}\")"
   ]
  },
  {
   "cell_type": "code",
   "execution_count": null,
   "metadata": {},
   "outputs": [],
   "source": [
    "#| hide\n",
    "import nbdev; nbdev.nbdev_export()"
   ]
  },
  {
   "cell_type": "code",
   "execution_count": null,
   "metadata": {},
   "outputs": [],
   "source": []
  }
 ],
 "metadata": {
  "kernelspec": {
   "display_name": "python3",
   "language": "python",
   "name": "python3"
  }
 },
 "nbformat": 4,
 "nbformat_minor": 4
}
